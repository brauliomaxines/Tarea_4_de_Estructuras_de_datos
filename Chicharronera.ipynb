{
  "nbformat": 4,
  "nbformat_minor": 0,
  "metadata": {
    "colab": {
      "name": "Chicharronera.ipynb",
      "provenance": [],
      "collapsed_sections": []
    },
    "kernelspec": {
      "name": "python3",
      "display_name": "Python 3"
    },
    "language_info": {
      "name": "python"
    }
  },
  "cells": [
    {
      "cell_type": "code",
      "metadata": {
        "colab": {
          "base_uri": "https://localhost:8080/",
          "height": 0
        },
        "id": "i9d1Pd-LJ_FK",
        "outputId": "37a01521-12ce-40c3-9324-ec1d7c022ac4"
      },
      "source": [
        "#Pedir datos al usuario\n",
        "print(\"siguiendo la estructura de una ecuación al cuadrado (ax^2 +bx +c = 0)\")\n",
        "a = float (input(\"Cual es el valor para a = \"))\n",
        "b = float (input(\"Cual es el valor para b = \"))\n",
        "c = float (input(\"Cual es el valor para c = \"))\n",
        "\n",
        "#Formula para X1\n",
        "X1 = (-b-(((b**2)-(4*a*c))**0.5))/(2*a)\n",
        "\n",
        "#resultado para X1\n",
        "print(f'El valor para X1: {X1}')\n",
        "\n",
        "#formula para X2\n",
        "X2 = (-b+(((b**2)-(4*a*c))**0.5))/(2*a)\n",
        "\n",
        "#resultado para X2\n",
        "print(f'El valor para X2: {X2}')"
      ],
      "execution_count": 8,
      "outputs": [
        {
          "output_type": "stream",
          "name": "stdout",
          "text": [
            "siguiendo la estructura de una ecuación al cuadrado (ax^2 +bx +c = 0)\n",
            "Cual es el valor para a = 2\n",
            "Cual es el valor para b = 3\n",
            "Cual es el valor para c = 1\n",
            "El valor para X1: -1.0\n",
            "-1.0\n",
            "El valor para X2: -0.5\n",
            "-0.5\n"
          ]
        }
      ]
    }
  ]
}